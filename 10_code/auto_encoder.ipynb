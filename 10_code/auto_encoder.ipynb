{
  "nbformat": 4,
  "nbformat_minor": 0,
  "metadata": {
    "colab": {
      "name": "auto_encoder.ipynb",
      "provenance": [],
      "collapsed_sections": [],
      "machine_shape": "hm",
      "include_colab_link": true
    },
    "kernelspec": {
      "name": "python3",
      "display_name": "Python 3"
    },
    "language_info": {
      "name": "python"
    },
    "accelerator": "GPU"
  },
  "cells": [
    {
      "cell_type": "markdown",
      "metadata": {
        "id": "view-in-github",
        "colab_type": "text"
      },
      "source": [
        "<a href=\"https://colab.research.google.com/github/FR-Schwartz/IDS705_Team10/blob/main/10_code/auto_encoder.ipynb\" target=\"_parent\"><img src=\"https://colab.research.google.com/assets/colab-badge.svg\" alt=\"Open In Colab\"/></a>"
      ]
    },
    {
      "cell_type": "markdown",
      "source": [
        "This is a final Auto Encoder file."
      ],
      "metadata": {
        "id": "ilGkhOQJ_JSy"
      }
    },
    {
      "cell_type": "code",
      "source": [
        "# Check if GPU is enabled on Google Colab\n",
        "import tensorflow as tf\n",
        "device_name = tf.test.gpu_device_name()\n",
        "if device_name != '/device:GPU:0':\n",
        "  raise SystemError('GPU device not found')\n",
        "print('Found GPU at: {}'.format(device_name))"
      ],
      "metadata": {
        "colab": {
          "base_uri": "https://localhost:8080/"
        },
        "id": "Xoc6oxNcS8hI",
        "outputId": "4b4fe5cb-48ae-4ec7-f762-f88dc53d8833"
      },
      "execution_count": 58,
      "outputs": [
        {
          "output_type": "stream",
          "name": "stdout",
          "text": [
            "Found GPU at: /device:GPU:0\n"
          ]
        }
      ]
    },
    {
      "cell_type": "code",
      "source": [
        "# Load libraries\n",
        "import numpy as np\n",
        "import matplotlib.pyplot as plt\n",
        "%matplotlib inline\n",
        "from __future__ import print_function\n",
        "from tensorflow import keras \n",
        "from tensorflow.keras.utils import to_categorical\n",
        "from google.colab import drive\n",
        "import os\n",
        "import pickle\n",
        "import tensorflow as tf\n",
        "from matplotlib import pyplot as plt\n",
        "from tensorflow.keras.callbacks import TensorBoard\n"
      ],
      "metadata": {
        "id": "IgfTF6oNTCYY"
      },
      "execution_count": 59,
      "outputs": []
    },
    {
      "cell_type": "code",
      "execution_count": 60,
      "metadata": {
        "colab": {
          "base_uri": "https://localhost:8080/"
        },
        "id": "uwgllL9BZzEb",
        "outputId": "0da7510f-9610-4971-b17e-e4d0a3e37395"
      },
      "outputs": [
        {
          "output_type": "stream",
          "name": "stdout",
          "text": [
            "Drive already mounted at /content/MyDrive/; to attempt to forcibly remount, call drive.mount(\"/content/MyDrive/\", force_remount=True).\n"
          ]
        }
      ],
      "source": [
        "# Copy drive to colab\n",
        "drive.mount('/content/MyDrive/')\n",
        "os.chdir('/content/MyDrive/MyDrive/IDS705_Final') #change to file path on your disk"
      ]
    },
    {
      "cell_type": "code",
      "source": [
        "#Helper Functions\n",
        "def parse_tfrecord(example):\n",
        "  \"\"\"\n",
        "  This function helps in parsing tfrecord files when creating a TF Dataset object\n",
        "  \"\"\"\n",
        "  feature = {'image': tf.io.FixedLenFeature([240, 240, 155, 4], tf.float32),\n",
        "             'label': tf.io.FixedLenFeature([240, 240, 155], tf.int64)}\n",
        "  parsed_example = tf.io.parse_single_example(example, feature)\n",
        "  return parsed_example\n",
        "\n",
        "def get_image_and_label(features):\n",
        "  \"\"\"\n",
        "  Extract Image and Label Object from tfrecord files\n",
        "  \"\"\"\n",
        "  image, label = features['image'], features['label']\n",
        "  return image, label\n",
        "\n",
        "def get_image_and_label_auto(features):\n",
        "  \"\"\"\n",
        "  Extract Image and Label Object from tfrecord files\n",
        "  \"\"\"\n",
        "  image = features['image']\n",
        "  return image, image\n",
        "\n",
        "def get_dataset(tfrecord_names):\n",
        "  \"\"\"\n",
        "  Create TF dataset files that can be fed into model functions\n",
        "  \"\"\"\n",
        "  dataset = (tf.data.TFRecordDataset(tfrecord_names)\n",
        "             .map(parse_tfrecord)\n",
        "             .map(get_image_and_label_auto))\n",
        "\n",
        "  return dataset"
      ],
      "metadata": {
        "id": "AIEqR7NMZ-9P"
      },
      "execution_count": 61,
      "outputs": []
    },
    {
      "cell_type": "code",
      "source": [
        "def encoder(input_layer):\n",
        "  # Elements in layer represent in this order batchSize, height, width, channels\n",
        "  print(\"*****Encoder*****\", input_layer)\n",
        "\n",
        "  x4 = tf.keras.layers.BatchNormalization()(input_layer)\n",
        "  x4 = tf.keras.layers.Conv3D( 4, 3, strides=(1,1,1), activation='relu', padding='same')(x4)\n",
        "  x4 = tf.keras.layers.BatchNormalization()(x4)\n",
        "  x4 = tf.keras.layers.Conv3D( 4, 3, strides=(1,1,1), activation='relu', padding='same')(x4)\n",
        "  x4 = tf.keras.layers.BatchNormalization()(x4)\n",
        "\n",
        "  print(\"x1\", x4.shape)\n",
        "\n",
        "  x8 = tf.keras.layers.Conv3D( 8, 3, strides=(2,2,2), activation='relu', padding='same')(x4)\n",
        "  x8 = tf.keras.layers.BatchNormalization()(x8)\n",
        "  x8 = tf.keras.layers.Conv3D( 8, 3, strides=(1,1,1), activation='relu', padding='same')(x8)\n",
        "  x8 = tf.keras.layers.BatchNormalization()(x8)\n",
        "\n",
        "  print(\"x2\", x8.shape)\n",
        "\n",
        "  x16 = tf.keras.layers.Conv3D(16, 3, strides=(2,2,2), activation='relu', padding='same')(x8)\n",
        "  x16 = tf.keras.layers.BatchNormalization()(x16)\n",
        "  x16 = tf.keras.layers.Conv3D(16, 3, strides=(1,1,1), activation='relu', padding='same')(x16)\n",
        "  x16 = tf.keras.layers.BatchNormalization()(x16)\n",
        "\n",
        "  print(\"x3\", x16.shape)\n",
        "\n",
        "  x32 = tf.keras.layers.Conv3D(32, 3, strides=(2,2,2), activation='relu', padding='same')(x16)\n",
        "  x32 = tf.keras.layers.BatchNormalization()(x32)\n",
        "  x32 = tf.keras.layers.Conv3D(32, 3, strides=(1,1,1), activation='relu', padding='same')(x32)\n",
        "  x32 = tf.keras.layers.BatchNormalization()(x32)\n",
        "\n",
        "  print(\"x4\", x32.shape)\n",
        "\n",
        "  x64 = tf.keras.layers.Conv3D(64, 3, strides=(2,2,2), activation='relu', padding='same')(x32)\n",
        "  x64 = tf.keras.layers.BatchNormalization()(x64)\n",
        "  x64 = tf.keras.layers.Conv3D(64, 3, strides=(1,1,1), activation='relu', padding='same')(x64)\n",
        "  x64 = tf.keras.layers.BatchNormalization()(x64)\n",
        "  \n",
        "  print(\"x5\", x64.shape)\n",
        "\n",
        "  x128 = tf.keras.layers.Conv3D(128, 3, strides=(2,2,2), activation='relu', padding='same')(x64)\n",
        "  x128 = tf.keras.layers.BatchNormalization()(x128)\n",
        "  x128 = tf.keras.layers.Conv3D(128, 3, strides=(1,1,1), activation='relu', padding='same')(x128)\n",
        "  x128 = tf.keras.layers.BatchNormalization()(x128)\n",
        "\n",
        "  print(\"x6\", x128.shape)\n",
        "\n",
        "  return x128\n"
      ],
      "metadata": {
        "id": "xomunduXbdvM"
      },
      "execution_count": 62,
      "outputs": []
    },
    {
      "cell_type": "code",
      "source": [
        "def decoder(encoded_layer):\n",
        "  print(\"*****Decoder*****\", encoded_layer)\n",
        "\n",
        "  x64 = tf.keras.layers.Conv3DTranspose(64, 3, strides=(1,1,1), activation='relu')(encoded_layer)\n",
        "  x64 = tf.keras.layers.Conv3DTranspose(64, 3, strides=(2,2,2), activation='relu', padding='same')(x64)\n",
        "  x64 = tf.keras.layers.Cropping3D(cropping=((1,2), (1,2), (1,1)))(x64)\n",
        "  x64 = tf.keras.layers.Cropping3D(cropping=((1,1), (1,1), (1,1)))(x64)\n",
        "  print(\"x1\", x64.shape)\n",
        "\n",
        "  \n",
        "  x32 = tf.keras.layers.Conv3DTranspose(32, 3, strides=(1,1,1), activation='relu')(x64)\n",
        "  x32 = tf.keras.layers.Conv3DTranspose(32, 3, strides=(2,2,2), activation='relu', padding='same')(x32)\n",
        "  x32 = tf.keras.layers.Cropping3D(cropping=((1,1), (1,1), (1,1)))(x32)\n",
        "  x32 = tf.keras.layers.Cropping3D(cropping=((1,1), (1,1), (1,1)))(x32)\n",
        "\n",
        "  print(\"x2\", x32.shape)\n",
        "\n",
        "  x16 = tf.keras.layers.Conv3DTranspose(16, 3, strides=(1,1,1), activation='relu')(x32)\n",
        "  x16 = tf.keras.layers.Conv3DTranspose(16, 3, strides=(2,2,2), activation='relu', padding='same')(x16)\n",
        "  x16 = tf.keras.layers.Cropping3D(cropping=((1,1), (1,1), (1,1)))(x16)\n",
        "  x16 = tf.keras.layers.Cropping3D(cropping=((1,1), (1,1), (1,2)))(x16)\n",
        "\n",
        "  print(\"x4\", x16.shape)\n",
        "\n",
        "  x8 = tf.keras.layers.Conv3DTranspose(8, 3, strides=(1,1,1), activation='relu')(x16)\n",
        "  x8 = tf.keras.layers.Conv3DTranspose(8, 3, strides=(2,2,2), activation='relu', padding='same')(x8)\n",
        "  x8 = tf.keras.layers.Cropping3D(cropping=((1,1), (1,1), (1,1)))(x8)\n",
        "  x8 = tf.keras.layers.Cropping3D(cropping=((1,1), (1,1), (1,1)))(x8)\n",
        "\n",
        "  print(\"x5\", x8.shape)\n",
        "\n",
        "  x4 = tf.keras.layers.Conv3DTranspose(4, 3, strides=(1,1,1), activation='relu')(x8)\n",
        "  x4 = tf.keras.layers.Conv3DTranspose(4, 3, strides=(2,2,2), activation='relu', padding='same')(x4)\n",
        "  x4 = tf.keras.layers.Cropping3D(cropping=((1,1), (1,1), (1,1)))(x4)\n",
        "  x4 = tf.keras.layers.Cropping3D(cropping=((1,1), (1,1), (1,2)))(x4)\n",
        "\n",
        "  print(\"x6\", x4.shape)\n",
        "\n",
        "  return x4\n",
        "  \n"
      ],
      "metadata": {
        "id": "xfKx3a4mf6wt"
      },
      "execution_count": 63,
      "outputs": []
    },
    {
      "cell_type": "code",
      "source": [
        "# Combine Encoder and Deocder layers\n",
        "from tensorflow.keras.models import Model\n",
        "\n",
        "input_layer = tf.keras.layers.Input(shape=(240,240,155,4))\n",
        "e_l = encoder(input_layer)\n",
        "output = decoder(e_l)\n",
        "\n",
        "autoencoder = Model(inputs = input_layer, outputs = output)"
      ],
      "metadata": {
        "colab": {
          "base_uri": "https://localhost:8080/"
        },
        "id": "0u0_SCrLis2p",
        "outputId": "0f381bd7-2b00-4a69-a1f6-c52f699ce827"
      },
      "execution_count": 64,
      "outputs": [
        {
          "output_type": "stream",
          "name": "stdout",
          "text": [
            "*****Encoder***** KerasTensor(type_spec=TensorSpec(shape=(None, 240, 240, 155, 4), dtype=tf.float32, name='input_2'), name='input_2', description=\"created by layer 'input_2'\")\n",
            "x1 (None, 240, 240, 155, 4)\n",
            "x2 (None, 120, 120, 78, 8)\n",
            "x3 (None, 60, 60, 39, 16)\n",
            "x4 (None, 30, 30, 20, 32)\n",
            "x5 (None, 15, 15, 10, 64)\n",
            "x6 (None, 8, 8, 5, 128)\n",
            "*****Decoder***** KerasTensor(type_spec=TensorSpec(shape=(None, 8, 8, 5, 128), dtype=tf.float32, name=None), name='batch_normalization_25/FusedBatchNormV3:0', description=\"created by layer 'batch_normalization_25'\")\n",
            "x1 (None, 15, 15, 10, 64)\n",
            "x2 (None, 30, 30, 20, 32)\n",
            "x4 (None, 60, 60, 39, 16)\n",
            "x5 (None, 120, 120, 78, 8)\n",
            "x6 (None, 240, 240, 155, 4)\n"
          ]
        }
      ]
    },
    {
      "cell_type": "code",
      "source": [
        "from tensorflow.keras import backend as k\n",
        "\n",
        "class DiceLoss(tf.keras.losses.Loss):\n",
        "    def __init__(self, smooth=1e-6, gama=2):\n",
        "        super(DiceLoss, self).__init__()\n",
        "        self.name = 'NDL'\n",
        "        self.smooth = smooth\n",
        "        self.gama = gama\n",
        "\n",
        "    def call(self, y_true, y_pred):\n",
        "\n",
        "        inter = k.sum(y_true[:,:,-1]*y_pred[:,:,-1])\n",
        "        return (2*inter + 1)/(k.sum(y_true[:,:,-1]) + k.sum(y_pred[:,:,-1]) + 1)"
      ],
      "metadata": {
        "id": "JAdrUaiPDoDO"
      },
      "execution_count": 65,
      "outputs": []
    },
    {
      "cell_type": "code",
      "source": [
        "lr=1e-3\n",
        "autoencoder.compile(loss=DiceLoss(), optimizer=tf.keras.optimizers.Adam(learning_rate=lr))\n",
        "autoencoder.summary()"
      ],
      "metadata": {
        "colab": {
          "base_uri": "https://localhost:8080/"
        },
        "id": "KmgO9tIMnRl_",
        "outputId": "a6032112-8fb8-44c4-f534-2237a46f55cb"
      },
      "execution_count": 66,
      "outputs": [
        {
          "output_type": "stream",
          "name": "stdout",
          "text": [
            "Model: \"model_1\"\n",
            "_________________________________________________________________\n",
            " Layer (type)                Output Shape              Param #   \n",
            "=================================================================\n",
            " input_2 (InputLayer)        [(None, 240, 240, 155, 4  0         \n",
            "                             )]                                  \n",
            "                                                                 \n",
            " batch_normalization_13 (Bat  (None, 240, 240, 155, 4)  16       \n",
            " chNormalization)                                                \n",
            "                                                                 \n",
            " conv3d_12 (Conv3D)          (None, 240, 240, 155, 4)  436       \n",
            "                                                                 \n",
            " batch_normalization_14 (Bat  (None, 240, 240, 155, 4)  16       \n",
            " chNormalization)                                                \n",
            "                                                                 \n",
            " conv3d_13 (Conv3D)          (None, 240, 240, 155, 4)  436       \n",
            "                                                                 \n",
            " batch_normalization_15 (Bat  (None, 240, 240, 155, 4)  16       \n",
            " chNormalization)                                                \n",
            "                                                                 \n",
            " conv3d_14 (Conv3D)          (None, 120, 120, 78, 8)   872       \n",
            "                                                                 \n",
            " batch_normalization_16 (Bat  (None, 120, 120, 78, 8)  32        \n",
            " chNormalization)                                                \n",
            "                                                                 \n",
            " conv3d_15 (Conv3D)          (None, 120, 120, 78, 8)   1736      \n",
            "                                                                 \n",
            " batch_normalization_17 (Bat  (None, 120, 120, 78, 8)  32        \n",
            " chNormalization)                                                \n",
            "                                                                 \n",
            " conv3d_16 (Conv3D)          (None, 60, 60, 39, 16)    3472      \n",
            "                                                                 \n",
            " batch_normalization_18 (Bat  (None, 60, 60, 39, 16)   64        \n",
            " chNormalization)                                                \n",
            "                                                                 \n",
            " conv3d_17 (Conv3D)          (None, 60, 60, 39, 16)    6928      \n",
            "                                                                 \n",
            " batch_normalization_19 (Bat  (None, 60, 60, 39, 16)   64        \n",
            " chNormalization)                                                \n",
            "                                                                 \n",
            " conv3d_18 (Conv3D)          (None, 30, 30, 20, 32)    13856     \n",
            "                                                                 \n",
            " batch_normalization_20 (Bat  (None, 30, 30, 20, 32)   128       \n",
            " chNormalization)                                                \n",
            "                                                                 \n",
            " conv3d_19 (Conv3D)          (None, 30, 30, 20, 32)    27680     \n",
            "                                                                 \n",
            " batch_normalization_21 (Bat  (None, 30, 30, 20, 32)   128       \n",
            " chNormalization)                                                \n",
            "                                                                 \n",
            " conv3d_20 (Conv3D)          (None, 15, 15, 10, 64)    55360     \n",
            "                                                                 \n",
            " batch_normalization_22 (Bat  (None, 15, 15, 10, 64)   256       \n",
            " chNormalization)                                                \n",
            "                                                                 \n",
            " conv3d_21 (Conv3D)          (None, 15, 15, 10, 64)    110656    \n",
            "                                                                 \n",
            " batch_normalization_23 (Bat  (None, 15, 15, 10, 64)   256       \n",
            " chNormalization)                                                \n",
            "                                                                 \n",
            " conv3d_22 (Conv3D)          (None, 8, 8, 5, 128)      221312    \n",
            "                                                                 \n",
            " batch_normalization_24 (Bat  (None, 8, 8, 5, 128)     512       \n",
            " chNormalization)                                                \n",
            "                                                                 \n",
            " conv3d_23 (Conv3D)          (None, 8, 8, 5, 128)      442496    \n",
            "                                                                 \n",
            " batch_normalization_25 (Bat  (None, 8, 8, 5, 128)     512       \n",
            " chNormalization)                                                \n",
            "                                                                 \n",
            " conv3d_transpose_10 (Conv3D  (None, 10, 10, 7, 64)    221248    \n",
            " Transpose)                                                      \n",
            "                                                                 \n",
            " conv3d_transpose_11 (Conv3D  (None, 20, 20, 14, 64)   110656    \n",
            " Transpose)                                                      \n",
            "                                                                 \n",
            " cropping3d_10 (Cropping3D)  (None, 17, 17, 12, 64)    0         \n",
            "                                                                 \n",
            " cropping3d_11 (Cropping3D)  (None, 15, 15, 10, 64)    0         \n",
            "                                                                 \n",
            " conv3d_transpose_12 (Conv3D  (None, 17, 17, 12, 32)   55328     \n",
            " Transpose)                                                      \n",
            "                                                                 \n",
            " conv3d_transpose_13 (Conv3D  (None, 34, 34, 24, 32)   27680     \n",
            " Transpose)                                                      \n",
            "                                                                 \n",
            " cropping3d_12 (Cropping3D)  (None, 32, 32, 22, 32)    0         \n",
            "                                                                 \n",
            " cropping3d_13 (Cropping3D)  (None, 30, 30, 20, 32)    0         \n",
            "                                                                 \n",
            " conv3d_transpose_14 (Conv3D  (None, 32, 32, 22, 16)   13840     \n",
            " Transpose)                                                      \n",
            "                                                                 \n",
            " conv3d_transpose_15 (Conv3D  (None, 64, 64, 44, 16)   6928      \n",
            " Transpose)                                                      \n",
            "                                                                 \n",
            " cropping3d_14 (Cropping3D)  (None, 62, 62, 42, 16)    0         \n",
            "                                                                 \n",
            " cropping3d_15 (Cropping3D)  (None, 60, 60, 39, 16)    0         \n",
            "                                                                 \n",
            " conv3d_transpose_16 (Conv3D  (None, 62, 62, 41, 8)    3464      \n",
            " Transpose)                                                      \n",
            "                                                                 \n",
            " conv3d_transpose_17 (Conv3D  (None, 124, 124, 82, 8)  1736      \n",
            " Transpose)                                                      \n",
            "                                                                 \n",
            " cropping3d_16 (Cropping3D)  (None, 122, 122, 80, 8)   0         \n",
            "                                                                 \n",
            " cropping3d_17 (Cropping3D)  (None, 120, 120, 78, 8)   0         \n",
            "                                                                 \n",
            " conv3d_transpose_18 (Conv3D  (None, 122, 122, 80, 4)  868       \n",
            " Transpose)                                                      \n",
            "                                                                 \n",
            " conv3d_transpose_19 (Conv3D  (None, 244, 244, 160, 4)  436      \n",
            " Transpose)                                                      \n",
            "                                                                 \n",
            " cropping3d_18 (Cropping3D)  (None, 242, 242, 158, 4)  0         \n",
            "                                                                 \n",
            " cropping3d_19 (Cropping3D)  (None, 240, 240, 155, 4)  0         \n",
            "                                                                 \n",
            "=================================================================\n",
            "Total params: 1,329,456\n",
            "Trainable params: 1,328,440\n",
            "Non-trainable params: 1,016\n",
            "_________________________________________________________________\n"
          ]
        }
      ]
    },
    {
      "cell_type": "code",
      "source": [
        "#Create Train / Val / Test Split\n",
        "subfolders = os.listdir(\"/content/MyDrive/MyDrive/IDS705_Final/Data/Train\")\n",
        "np.random.seed(101)\n",
        "split = np.random.choice([\"Train\",\"Val\",\"Test\"], len(subfolders), p=[0.6, 0.2, 0.2])\n",
        "train_ids = [subfolders[i] for i,v in enumerate(split) if v==\"Train\"]\n",
        "val_ids = [subfolders[i] for i,v in enumerate(split) if v==\"Val\"]\n",
        "test_ids = [subfolders[i] for i,v in enumerate(split) if v==\"Test\"]"
      ],
      "metadata": {
        "id": "ejWz28eRImyn"
      },
      "execution_count": null,
      "outputs": []
    },
    {
      "cell_type": "code",
      "source": [
        "#Create dataset objects\n",
        "train_dataset = get_dataset([f'/content/MyDrive/MyDrive/IDS705_Final/Data/train_tf/{sf}.tfrecord' for sf in train_ids])\n",
        "test_dataset = get_dataset([f'/content/MyDrive/MyDrive/IDS705_Final/Data/train_tf/{sf}.tfrecord' for sf in test_ids])\n",
        "val_dataset = get_dataset([f'/content/MyDrive/MyDrive/IDS705_Final/Data/train_tf/{sf}.tfrecord' for sf in val_ids])\n",
        "mini_dataset = get_dataset([f'/content/MyDrive/MyDrive/IDS705_Final/Data/train_tf/{sf}.tfrecord' for sf in subfolders[100:228]])\n",
        "minival_dataset = get_dataset([f'/content/MyDrive/MyDrive/IDS705_Final/Data/train_tf/{sf}.tfrecord' for sf in subfolders[500:508]])"
      ],
      "metadata": {
        "id": "cYaE9ELQGdoI"
      },
      "execution_count": null,
      "outputs": []
    },
    {
      "cell_type": "code",
      "source": [
        "batchsize = 4\n",
        "shufflesize = 8\n",
        "mini_dataset_trainable = mini_dataset.shuffle(shufflesize).batch(batchsize)\n",
        "minival_dataset_validable = minival_dataset.batch(batchsize)\n",
        "train_dataset_trainable = train_dataset.shuffle(shufflesize).batch(batchsize)\n",
        "val_dataset_validable = val_dataset.batch(batchsize)"
      ],
      "metadata": {
        "id": "muk7qrVro3N6"
      },
      "execution_count": null,
      "outputs": []
    },
    {
      "cell_type": "code",
      "source": [
        "# Train Autoencoder\n",
        "epochs = 10\n",
        "auto_enc = autoencoder.fit(mini_dataset_trainable, epochs = epochs, verbose=1, validation_data=minival_dataset_validable, batch_size = 4, shuffle = False, callbacks=[TensorBoard(log_dir='/tmp/autoencoder')])\n"
      ],
      "metadata": {
        "id": "wpVOHEgVvKaQ",
        "outputId": "57084604-aa58-4e9c-e24d-d610979465c1",
        "colab": {
          "base_uri": "https://localhost:8080/"
        }
      },
      "execution_count": 73,
      "outputs": [
        {
          "output_type": "stream",
          "name": "stdout",
          "text": [
            "Epoch 1/10\n",
            "32/32 [==============================] - 103s 3s/step - loss: 0.0012 - val_loss: 1.4404e-04\n",
            "Epoch 2/10\n",
            "32/32 [==============================] - 125s 4s/step - loss: 1.4916e-06 - val_loss: 9.5646e-05\n",
            "Epoch 3/10\n",
            "32/32 [==============================] - 125s 4s/step - loss: 1.3146e-06 - val_loss: 8.0968e-05\n",
            "Epoch 4/10\n",
            "32/32 [==============================] - 220s 7s/step - loss: 1.2385e-06 - val_loss: 7.0314e-05\n",
            "Epoch 5/10\n",
            "32/32 [==============================] - 228s 7s/step - loss: 1.1820e-06 - val_loss: 6.0860e-05\n",
            "Epoch 6/10\n",
            "32/32 [==============================] - 228s 7s/step - loss: 1.1120e-06 - val_loss: 5.0453e-05\n",
            "Epoch 7/10\n",
            "32/32 [==============================] - 229s 7s/step - loss: 1.0516e-06 - val_loss: 4.0533e-05\n",
            "Epoch 8/10\n",
            "32/32 [==============================] - 228s 7s/step - loss: 9.9577e-07 - val_loss: 2.7321e-05\n",
            "Epoch 9/10\n",
            "32/32 [==============================] - 229s 7s/step - loss: 9.4641e-07 - val_loss: 1.2614e-05\n",
            "Epoch 10/10\n",
            "32/32 [==============================] - 229s 7s/step - loss: 8.9608e-07 - val_loss: 4.9330e-06\n"
          ]
        }
      ]
    },
    {
      "cell_type": "code",
      "source": [
        "# Plot loss curves\n",
        "loss = auto_enc.history['loss']\n",
        "val_loss = auto_enc.history['val_loss']\n",
        "epochs = [1,2,3,4,5,6,7,8,9,10]\n",
        "\n",
        "plt.figure()\n",
        "plt.plot(epochs, loss, 'b', linestyle=\"-\", label='Training loss')\n",
        "plt.plot(epochs, val_loss, 'g', linestyle=\"-\", label='Validation loss')\n",
        "plt.title('Training and validation loss')\n",
        "plt.xlabel('Epochs')\n",
        "plt.ylabel(\"Dice Loss\")\n",
        "plt.legend()\n",
        "plt.show()\n",
        "plt.close()"
      ],
      "metadata": {
        "id": "-mPJeEOY1-_-",
        "outputId": "358aadf2-86ba-4edd-c857-c7e7c5da3703",
        "colab": {
          "base_uri": "https://localhost:8080/",
          "height": 295
        }
      },
      "execution_count": 75,
      "outputs": [
        {
          "output_type": "display_data",
          "data": {
            "text/plain": [
              "<Figure size 432x288 with 1 Axes>"
            ],
            "image/png": "[encoded data removed]"
          },
          "metadata": {
            "needs_background": "light"
          }
        }
      ]
    }
  ]
}