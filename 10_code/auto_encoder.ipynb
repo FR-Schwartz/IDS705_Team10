{
  "nbformat": 4,
  "nbformat_minor": 0,
  "metadata": {
    "colab": {
      "name": "auto_encoder.ipynb",
      "provenance": [],
      "collapsed_sections": [],
      "authorship_tag": "ABX9TyMusXSPb5G5kflh4z0AXEyj",
      "include_colab_link": true
    },
    "kernelspec": {
      "name": "python3",
      "display_name": "Python 3"
    },
    "language_info": {
      "name": "python"
    },
    "accelerator": "GPU"
  },
  "cells": [
    {
      "cell_type": "markdown",
      "metadata": {
        "id": "view-in-github",
        "colab_type": "text"
      },
      "source": [
        "<a href=\"https://colab.research.google.com/github/FR-Schwartz/IDS705_Team10/blob/main/10_code/auto_encoder.ipynb\" target=\"_parent\"><img src=\"https://colab.research.google.com/assets/colab-badge.svg\" alt=\"Open In Colab\"/></a>"
      ]
    },
    {
      "cell_type": "code",
      "source": [
        "import tensorflow as tf\n",
        "device_name = tf.test.gpu_device_name()\n",
        "if device_name != '/device:GPU:0':\n",
        "  raise SystemError('GPU device not found')\n",
        "print('Found GPU at: {}'.format(device_name))"
      ],
      "metadata": {
        "colab": {
          "base_uri": "https://localhost:8080/"
        },
        "id": "Xoc6oxNcS8hI",
        "outputId": "cbf6917e-b45d-4905-b3cf-ea1031f8fca4"
      },
      "execution_count": 1,
      "outputs": [
        {
          "output_type": "stream",
          "name": "stdout",
          "text": [
            "Found GPU at: /device:GPU:0\n"
          ]
        }
      ]
    },
    {
      "cell_type": "code",
      "source": [
        "import numpy as np\n",
        "import matplotlib.pyplot as plt\n",
        "%matplotlib inline\n",
        "from __future__ import print_function\n",
        "import keras\n",
        "from keras.models import Sequential, Model\n",
        "from tensorflow.keras.utils import to_categorical\n",
        "from keras.layers import Dense, Conv2D, MaxPooling2D, Dropout, Flatten, Input"
      ],
      "metadata": {
        "id": "IgfTF6oNTCYY"
      },
      "execution_count": 2,
      "outputs": []
    },
    {
      "cell_type": "code",
      "execution_count": 3,
      "metadata": {
        "colab": {
          "base_uri": "https://localhost:8080/"
        },
        "id": "uwgllL9BZzEb",
        "outputId": "5a952961-f0af-4445-9511-a6194486c556"
      },
      "outputs": [
        {
          "output_type": "stream",
          "name": "stdout",
          "text": [
            "Mounted at /content/MyDrive/\n"
          ]
        }
      ],
      "source": [
        "from google.colab import drive\n",
        "import os\n",
        "import pickle\n",
        "import tensorflow_gcs_config\n",
        "import shutil\n",
        "import numpy as np\n",
        "import tensorflow as tf\n",
        "from matplotlib import pyplot as plt\n",
        "import nibabel as nib\n",
        "import tensorflow_hub as hub\n",
        "drive.mount('/content/MyDrive/')\n",
        "os.chdir('/content/MyDrive/MyDrive/IDS705_Final') #change to file path on your disk"
      ]
    },
    {
      "cell_type": "code",
      "source": [
        "#Create Train / Val / Test Split\n",
        "subfolders = os.listdir(\"/content/MyDrive/MyDrive/IDS705_Final/Data/Train\")\n",
        "np.random.seed(101)\n",
        "split = np.random.choice([\"Train\",\"Val\",\"Test\"], len(subfolders), p=[0.6, 0.2, 0.2])\n",
        "train_ids = [subfolders[i] for i,v in enumerate(split) if v==\"Train\"]\n",
        "val_ids = [subfolders[i] for i,v in enumerate(split) if v==\"Val\"]\n",
        "test_ids = [subfolders[i] for i,v in enumerate(split) if v==\"Test\"]"
      ],
      "metadata": {
        "id": "capDewJEZ4ao"
      },
      "execution_count": 4,
      "outputs": []
    },
    {
      "cell_type": "code",
      "source": [
        "#Helper Functions\n",
        "def parse_tfrecord(example):\n",
        "  \"\"\"\n",
        "  This function helps in parsing tfrecord files when creating a TF Dataset object\n",
        "  \"\"\"\n",
        "  feature = {'image': tf.io.FixedLenFeature([240, 240, 155, 4], tf.float32),\n",
        "             'label': tf.io.FixedLenFeature([240, 240, 155], tf.int64)}\n",
        "  parsed_example = tf.io.parse_single_example(example, feature)\n",
        "  return parsed_example\n",
        "\n",
        "def get_image_and_label(features):\n",
        "  \"\"\"\n",
        "  Extract Image and Label Object from tfrecord files\n",
        "  \"\"\"\n",
        "  image, label = features['image'], features['label']\n",
        "  return image, label\n",
        "\n",
        "def get_image_and_label_auto(features):\n",
        "  \"\"\"\n",
        "  Extract Image and Label Object from tfrecord files\n",
        "  \"\"\"\n",
        "  image = features['image']\n",
        "  return image, image\n",
        "\n",
        "def get_dataset(tfrecord_names):\n",
        "  \"\"\"\n",
        "  Create TF dataset files that can be fed into model functions\n",
        "  \"\"\"\n",
        "  dataset = (tf.data.TFRecordDataset(tfrecord_names)\n",
        "             .map(parse_tfrecord)\n",
        "             .map(get_image_and_label_auto))\n",
        "\n",
        "  return dataset"
      ],
      "metadata": {
        "id": "AIEqR7NMZ-9P"
      },
      "execution_count": 45,
      "outputs": []
    },
    {
      "cell_type": "code",
      "source": [
        "#Create dataset objects\n",
        "train_dataset = get_dataset([f'/content/MyDrive/MyDrive/IDS705_Final/Data/train_tf/{sf}.tfrecord' for sf in train_ids])\n",
        "test_dataset = get_dataset([f'/content/MyDrive/MyDrive/IDS705_Final/Data/train_tf/{sf}.tfrecord' for sf in test_ids])\n",
        "val_dataset = get_dataset([f'/content/MyDrive/MyDrive/IDS705_Final/Data/train_tf/{sf}.tfrecord' for sf in val_ids])\n",
        "mini_dataset = get_dataset([f'/content/MyDrive/MyDrive/IDS705_Final/Data/train_tf/{sf}.tfrecord' for sf in subfolders[100:228]])\n",
        "minival_dataset = get_dataset([f'/content/MyDrive/MyDrive/IDS705_Final/Data/train_tf/{sf}.tfrecord' for sf in subfolders[500:508]])"
      ],
      "metadata": {
        "id": "IxXwC_DDaBCx"
      },
      "execution_count": 46,
      "outputs": []
    },
    {
      "cell_type": "code",
      "source": [
        "mini_dataset"
      ],
      "metadata": {
        "colab": {
          "base_uri": "https://localhost:8080/"
        },
        "id": "r9-GObdrrw2p",
        "outputId": "26b56a00-5af3-4ad2-cea6-7da0ca80b187"
      },
      "execution_count": 47,
      "outputs": [
        {
          "output_type": "execute_result",
          "data": {
            "text/plain": [
              "<MapDataset element_spec=(TensorSpec(shape=(240, 240, 155, 4), dtype=tf.float32, name=None), TensorSpec(shape=(240, 240, 155, 4), dtype=tf.float32, name=None))>"
            ]
          },
          "metadata": {},
          "execution_count": 47
        }
      ]
    },
    {
      "cell_type": "code",
      "source": [
        "def encoder(input_layer):\n",
        "  # Elements in layer represent in this order batchSize, height, width, channels\n",
        "  print(\"*****Encoder*****\", input_layer)\n",
        "\n",
        "  x1 = tf.keras.layers.BatchNormalization()(input_layer)\n",
        "  x1 = tf.keras.layers.Conv3D( 4, (1,1,1), strides=(1,1,1), activation='relu')(x1)\n",
        "\n",
        "  print(\"x1\", x1.shape)\n",
        "\n",
        "  x2 = tf.keras.layers.Conv3D( 8, 3, strides=(2,2,2), activation='relu', padding='same')(x1)\n",
        "  x2 = tf.keras.layers.Conv3D( 8, 3, strides=(1,1,1), activation='relu')(x2)\n",
        "\n",
        "  print(\"x2\", x2.shape)\n",
        "\n",
        "  x3 = tf.keras.layers.Conv3D( 16, 3, strides=(2,2,2), activation='relu', padding='same')(x2)\n",
        "\n",
        "  print(\"x3\", x3.shape)\n",
        "\n",
        "  x4 = tf.keras.layers.Conv3D( 32, 3, strides=(2,2,2), activation='relu', padding='same')(x3)\n",
        "  x4 = tf.keras.layers.Conv3D( 32, 3, strides=(1,1,1), activation='relu')(x4)\n",
        "\n",
        "  print(\"x4\", x4.shape)\n",
        "\n",
        "  x5 = tf.keras.layers.Conv3D( 64, 3, strides=(2,2,2), activation='relu', padding='same')(x4)\n",
        "  x5 = tf.keras.layers.Conv3D( 64, 3, strides=(1,1,1), activation='relu')(x5)\n",
        "\n",
        "  print(\"x5\", x5.shape)\n",
        "\n",
        "  x6 = tf.keras.layers.Conv3D( 128, 3, strides=(2,2,2), activation='relu', padding='same')(x5)\n",
        "  x6 = tf.keras.layers.Conv3D( 128, 3, strides=(1,1,1), activation='relu')(x6)\n",
        "\n",
        "  print(\"x6\", x6.shape)\n",
        "\n",
        "  return x6\n"
      ],
      "metadata": {
        "id": "xomunduXbdvM"
      },
      "execution_count": 264,
      "outputs": []
    },
    {
      "cell_type": "code",
      "source": [
        "def decoder(encoded_layer):\n",
        "  print(\"*****Decoder*****\", encoded_layer)\n",
        "\n",
        "  x1 = tf.keras.layers.Conv3DTranspose( 64, 4, strides=(1,1,1), activation='relu')(encoded_layer)\n",
        "  x1 = tf.keras.layers.Conv3DTranspose( 64, 2, strides=(2,2,2), activation='relu', padding='valid')(x1)\n",
        "\n",
        "\n",
        "  print(\"x1\", x1.shape)\n",
        "\n",
        "  \n",
        "  x3 = tf.keras.layers.Conv3DTranspose( 32, 3, strides=(2,2,3), activation='relu', padding=\"valid\")(x1)\n",
        "  x3 = tf.keras.layers.Conv3DTranspose( 32, 1, strides=(1,1,2), activation='relu')(x3)\n",
        "\n",
        "  print(\"x3\", x3.shape)\n",
        "\n",
        "  x4 = tf.keras.layers.Conv3DTranspose( 16, 2, strides=(2,2,1), activation='relu', padding=\"valid\")(x3)\n",
        "  x4 = tf.keras.layers.Conv3DTranspose( 16, 2, strides=(1,1,1), activation='relu')(x4)\n",
        "\n",
        "  print(\"x4\", x4.shape)\n",
        "\n",
        "  x5 = tf.keras.layers.Conv3DTranspose( 8, 3, strides=(2,2,2), activation='relu', padding=\"valid\")(x4)\n",
        "  x5 = tf.keras.layers.Conv3DTranspose( 8, 2, strides=(1,1,1), activation='relu')(x5)\n",
        "\n",
        "  print(\"x5\", x5.shape)\n",
        "\n",
        "  x6 = tf.keras.layers.Conv3DTranspose( 4, 2, strides=(2,2,1), activation='relu', padding=\"valid\")(x5)\n",
        "  x6 = tf.keras.layers.Conv3DTranspose( 4, (1,1,29), strides=(1,1,1), activation='relu', padding=\"valid\")(x6)\n",
        "  \n",
        "\n",
        "\n",
        "  print(\"x6\", x6.shape)\n",
        "\n",
        "  return x6\n",
        "  \n"
      ],
      "metadata": {
        "id": "xfKx3a4mf6wt"
      },
      "execution_count": 631,
      "outputs": []
    },
    {
      "cell_type": "code",
      "source": [
        "# Combine Encoder and Deocder layers\n",
        "from keras.models import Model, Input\n",
        "\n",
        "input_layer = tf.keras.layers.Input(shape=(240,240,155,4))\n",
        "e_l = encoder(input_layer)\n",
        "output = decoder(e_l)\n",
        "\n",
        "\n",
        "autoencoder = Model(inputs = input_layer, outputs = output)"
      ],
      "metadata": {
        "colab": {
          "base_uri": "https://localhost:8080/"
        },
        "id": "0u0_SCrLis2p",
        "outputId": "d47bc8c3-6d25-4c62-a215-e378c467c329"
      },
      "execution_count": 632,
      "outputs": [
        {
          "output_type": "stream",
          "name": "stdout",
          "text": [
            "*****Encoder***** KerasTensor(type_spec=TensorSpec(shape=(None, 240, 240, 155, 4), dtype=tf.float32, name='input_288'), name='input_288', description=\"created by layer 'input_288'\")\n",
            "x1 (None, 240, 240, 155, 4)\n",
            "x2 (None, 118, 118, 76, 8)\n",
            "x3 (None, 59, 59, 38, 16)\n",
            "x4 (None, 28, 28, 17, 32)\n",
            "x5 (None, 12, 12, 7, 64)\n",
            "x6 (None, 4, 4, 2, 128)\n",
            "*****Decoder***** KerasTensor(type_spec=TensorSpec(shape=(None, 4, 4, 2, 128), dtype=tf.float32, name=None), name='conv3d_3034/Relu:0', description=\"created by layer 'conv3d_3034'\")\n",
            "x1 (None, 14, 14, 10, 64)\n",
            "x3 (None, 29, 29, 60, 32)\n",
            "x4 (None, 59, 59, 62, 16)\n",
            "x5 (None, 120, 120, 126, 8)\n",
            "x6 (None, 240, 240, 155, 4)\n"
          ]
        }
      ]
    },
    {
      "cell_type": "code",
      "source": [
        "autoencoder.compile(optimizer=\"adadelta\", loss=\"KLDivergence\")\n",
        "autoencoder.summary()"
      ],
      "metadata": {
        "colab": {
          "base_uri": "https://localhost:8080/"
        },
        "id": "KmgO9tIMnRl_",
        "outputId": "c6a0a962-e6c5-48b8-e6ba-aa4f1d5cfe02"
      },
      "execution_count": 633,
      "outputs": [
        {
          "output_type": "stream",
          "name": "stdout",
          "text": [
            "Model: \"model_265\"\n",
            "_________________________________________________________________\n",
            " Layer (type)                Output Shape              Param #   \n",
            "=================================================================\n",
            " input_288 (InputLayer)      [(None, 240, 240, 155, 4  0         \n",
            "                             )]                                  \n",
            "                                                                 \n",
            " batch_normalization_287 (Ba  (None, 240, 240, 155, 4)  16       \n",
            " tchNormalization)                                               \n",
            "                                                                 \n",
            " conv3d_3025 (Conv3D)        (None, 240, 240, 155, 4)  20        \n",
            "                                                                 \n",
            " conv3d_3026 (Conv3D)        (None, 120, 120, 78, 8)   872       \n",
            "                                                                 \n",
            " conv3d_3027 (Conv3D)        (None, 118, 118, 76, 8)   1736      \n",
            "                                                                 \n",
            " conv3d_3028 (Conv3D)        (None, 59, 59, 38, 16)    3472      \n",
            "                                                                 \n",
            " conv3d_3029 (Conv3D)        (None, 30, 30, 19, 32)    13856     \n",
            "                                                                 \n",
            " conv3d_3030 (Conv3D)        (None, 28, 28, 17, 32)    27680     \n",
            "                                                                 \n",
            " conv3d_3031 (Conv3D)        (None, 14, 14, 9, 64)     55360     \n",
            "                                                                 \n",
            " conv3d_3032 (Conv3D)        (None, 12, 12, 7, 64)     110656    \n",
            "                                                                 \n",
            " conv3d_3033 (Conv3D)        (None, 6, 6, 4, 128)      221312    \n",
            "                                                                 \n",
            " conv3d_3034 (Conv3D)        (None, 4, 4, 2, 128)      442496    \n",
            "                                                                 \n",
            " conv3d_transpose_3206 (Conv  (None, 7, 7, 5, 64)      524352    \n",
            " 3DTranspose)                                                    \n",
            "                                                                 \n",
            " conv3d_transpose_3207 (Conv  (None, 14, 14, 10, 64)   32832     \n",
            " 3DTranspose)                                                    \n",
            "                                                                 \n",
            " conv3d_transpose_3208 (Conv  (None, 29, 29, 30, 32)   55328     \n",
            " 3DTranspose)                                                    \n",
            "                                                                 \n",
            " conv3d_transpose_3209 (Conv  (None, 29, 29, 60, 32)   1056      \n",
            " 3DTranspose)                                                    \n",
            "                                                                 \n",
            " conv3d_transpose_3210 (Conv  (None, 58, 58, 61, 16)   4112      \n",
            " 3DTranspose)                                                    \n",
            "                                                                 \n",
            " conv3d_transpose_3211 (Conv  (None, 59, 59, 62, 16)   2064      \n",
            " 3DTranspose)                                                    \n",
            "                                                                 \n",
            " conv3d_transpose_3212 (Conv  (None, 119, 119, 125, 8)  3464     \n",
            " 3DTranspose)                                                    \n",
            "                                                                 \n",
            " conv3d_transpose_3213 (Conv  (None, 120, 120, 126, 8)  520      \n",
            " 3DTranspose)                                                    \n",
            "                                                                 \n",
            " conv3d_transpose_3214 (Conv  (None, 240, 240, 127, 4)  260      \n",
            " 3DTranspose)                                                    \n",
            "                                                                 \n",
            " conv3d_transpose_3215 (Conv  (None, 240, 240, 155, 4)  468      \n",
            " 3DTranspose)                                                    \n",
            "                                                                 \n",
            "=================================================================\n",
            "Total params: 1,501,932\n",
            "Trainable params: 1,501,924\n",
            "Non-trainable params: 8\n",
            "_________________________________________________________________\n"
          ]
        }
      ]
    },
    {
      "cell_type": "code",
      "source": [
        "batchsize = 4\n",
        "shufflesize = 8\n",
        "mini_dataset_trainable = mini_dataset.shuffle(shufflesize).batch(batchsize)\n",
        "minival_dataset_validable = minival_dataset.batch(batchsize)\n",
        "train_dataset_trainable = train_dataset.shuffle(shufflesize).batch(batchsize)\n",
        "val_dataset_validable = val_dataset.batch(batchsize)"
      ],
      "metadata": {
        "id": "muk7qrVro3N6"
      },
      "execution_count": 634,
      "outputs": []
    },
    {
      "cell_type": "code",
      "source": [
        "autoencoder.fit(train_dataset_trainable, epochs = 2, batch_size = 4, shuffle = False,validation_data=val_dataset_validable)"
      ],
      "metadata": {
        "id": "qyANFfcRpvXs"
      },
      "execution_count": null,
      "outputs": []
    },
    {
      "cell_type": "code",
      "source": [
        "# #DICE Coefficent definition used as a metric in compilation\n",
        "# import keras.backend as k\n",
        "# def dice_coef(y_pred, y_true):\n",
        "#     inter = k.sum(y_true[:,:,-1]*y_pred[:,:,-1])\n",
        "#     return (2*inter + 1)/(k.sum(y_true[:,:,-1]) + k.sum(y_pred[:,:,-1]) + 1)"
      ],
      "metadata": {
        "id": "4FgVauW9jdo8"
      },
      "execution_count": null,
      "outputs": []
    }
  ]
}