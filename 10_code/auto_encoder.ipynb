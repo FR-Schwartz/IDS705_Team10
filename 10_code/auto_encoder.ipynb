{
  "nbformat": 4,
  "nbformat_minor": 0,
  "metadata": {
    "colab": {
      "name": "auto_encoder.ipynb",
      "provenance": [],
      "collapsed_sections": [],
      "authorship_tag": "ABX9TyO6cx7zCJm6eeCaeb02v6KZ",
      "include_colab_link": true
    },
    "kernelspec": {
      "name": "python3",
      "display_name": "Python 3"
    },
    "language_info": {
      "name": "python"
    }
  },
  "cells": [
    {
      "cell_type": "markdown",
      "metadata": {
        "id": "view-in-github",
        "colab_type": "text"
      },
      "source": [
        "<a href=\"https://colab.research.google.com/github/FR-Schwartz/IDS705_Team10/blob/main/10_code/auto_encoder.ipynb\" target=\"_parent\"><img src=\"https://colab.research.google.com/assets/colab-badge.svg\" alt=\"Open In Colab\"/></a>"
      ]
    },
    {
      "cell_type": "code",
      "execution_count": 1,
      "metadata": {
        "colab": {
          "base_uri": "https://localhost:8080/"
        },
        "id": "uwgllL9BZzEb",
        "outputId": "08f09606-f918-4194-a63f-46c8f9886633"
      },
      "outputs": [
        {
          "output_type": "stream",
          "name": "stdout",
          "text": [
            "Mounted at /content/MyDrive/\n"
          ]
        }
      ],
      "source": [
        "from google.colab import drive\n",
        "import os\n",
        "import pickle\n",
        "import tensorflow_gcs_config\n",
        "import shutil\n",
        "import numpy as np\n",
        "import tensorflow as tf\n",
        "from matplotlib import pyplot as plt\n",
        "import nibabel as nib\n",
        "import tensorflow_hub as hub\n",
        "drive.mount('/content/MyDrive/')\n",
        "os.chdir('/content/MyDrive/MyDrive/IDS705_Final') #change to file path on your disk"
      ]
    },
    {
      "cell_type": "code",
      "source": [
        "#Create Train / Val / Test Split\n",
        "subfolders = os.listdir(\"Data/Train\")\n",
        "np.random.seed(101)\n",
        "split = np.random.choice([\"Train\",\"Val\",\"Test\"], len(subfolders), p=[0.6, 0.2, 0.2])\n",
        "train_ids = [subfolders[i] for i,v in enumerate(split) if v==\"Train\"]\n",
        "val_ids = [subfolders[i] for i,v in enumerate(split) if v==\"Val\"]\n",
        "test_ids = [subfolders[i] for i,v in enumerate(split) if v==\"Test\"]"
      ],
      "metadata": {
        "id": "capDewJEZ4ao"
      },
      "execution_count": 2,
      "outputs": []
    },
    {
      "cell_type": "code",
      "source": [
        "#Helper Functions\n",
        "def parse_tfrecord(example):\n",
        "  \"\"\"\n",
        "  This function helps in parsing tfrecord files when creating a TF Dataset object\n",
        "  \"\"\"\n",
        "  feature = {'image': tf.io.FixedLenFeature([240, 240, 155, 4], tf.float32),\n",
        "             'label': tf.io.FixedLenFeature([240, 240, 155], tf.int64)}\n",
        "  parsed_example = tf.io.parse_single_example(example, feature)\n",
        "  return parsed_example\n",
        "\n",
        "def get_image_and_label(features):\n",
        "  \"\"\"\n",
        "  Extract Image and Label Object from tfrecord files\n",
        "  \"\"\"\n",
        "  image, label = features['image'], features['label']\n",
        "  return image, label\n",
        "\n",
        "def get_dataset(tfrecord_names):\n",
        "  \"\"\"\n",
        "  Create TF dataset files that can be fed into model functions\n",
        "  \"\"\"\n",
        "  dataset = (tf.data.TFRecordDataset(tfrecord_names)\n",
        "             .map(parse_tfrecord)\n",
        "             .map(get_image_and_label))\n",
        "\n",
        "  return dataset"
      ],
      "metadata": {
        "id": "AIEqR7NMZ-9P"
      },
      "execution_count": 3,
      "outputs": []
    },
    {
      "cell_type": "code",
      "source": [
        "#Create dataset objects\n",
        "train_dataset = get_dataset([f'/content/MyDrive/MyDrive/IDS705_Final/Data/train_tf/{sf}.tfrecord' for sf in train_ids])\n",
        "test_dataset = get_dataset([f'/content/MyDrive/MyDrive/IDS705_Final/Data/train_tf/{sf}.tfrecord' for sf in test_ids])\n",
        "val_dataset = get_dataset([f'/content/MyDrive/MyDrive/IDS705_Final/Data/train_tf/{sf}.tfrecord' for sf in val_ids])\n",
        "mini_dataset = get_dataset([f'/content/MyDrive/MyDrive/IDS705_Final/Data/train_tf/{sf}.tfrecord' for sf in subfolders[100:228]])\n",
        "minival_dataset = get_dataset([f'/content/MyDrive/MyDrive/IDS705_Final/Data/train_tf/{sf}.tfrecord' for sf in subfolders[500:508]])"
      ],
      "metadata": {
        "id": "IxXwC_DDaBCx"
      },
      "execution_count": 4,
      "outputs": []
    },
    {
      "cell_type": "code",
      "source": [
        "def enco(Input_shape):\n",
        "  print(\"*****Encoder*****\", Input_shape)\n",
        "\n",
        "  x4 = tf.keras.layers.Conv3D( 4, 3, strides=(1,1,1), activation='relu', padding='same')(Input_shape)\n",
        "  x4 = tf.keras.layers.BatchNormalization()(x4)\n",
        "  x4 = tf.keras.layers.Conv3D( 4, 3, strides=(1,1,1), activation='relu', padding='same')(x4)\n",
        "  x4 = tf.keras.layers.BatchNormalization()(x4)\n",
        "\n",
        "  x8 = tf.keras.layers.Conv3D( 8, 3, strides=(2,2,2), activation='relu', padding='same')(x4)\n",
        "  x8 = tf.keras.layers.BatchNormalization()(x8)\n",
        "  x8 = tf.keras.layers.Conv3D( 8, 3, strides=(1,1,1), activation='relu', padding='same')(x8)\n",
        "  x8 = tf.keras.layers.BatchNormalization()(x8)\n",
        "\n",
        "  x16 = tf.keras.layers.Conv3D(16, 3, strides=(2,2,2), activation='relu', padding='same')(x8)\n",
        "  x16 = tf.keras.layers.BatchNormalization()(x16)\n",
        "  x16 = tf.keras.layers.Conv3D(16, 3, strides=(1,1,1), activation='relu', padding='same')(x16)\n",
        "  x16 = tf.keras.layers.BatchNormalization()(x16)\n",
        "\n",
        "  x32 = tf.keras.layers.Conv3D(32, 3, strides=(2,2,2), activation='relu', padding='same')(x16)\n",
        "  x32 = tf.keras.layers.BatchNormalization()(x32)\n",
        "  x32 = tf.keras.layers.Conv3D(32, 3, strides=(1,1,1), activation='relu', padding='same')(x32)\n",
        "  x32 = tf.keras.layers.BatchNormalization()(x32)\n",
        "\n",
        "  x64 = tf.keras.layers.Conv3D(64, 3, strides=(2,2,2), activation='relu', padding='same')(x32)\n",
        "  x64 = tf.keras.layers.BatchNormalization()(x64)\n",
        "  x64 = tf.keras.layers.Conv3D(64, 3, strides=(1,1,1), activation='relu', padding='same')(x64)\n",
        "  x64 = tf.keras.layers.BatchNormalization()(x64)\n",
        "  \n",
        "  x128 = tf.keras.layers.Conv3D(128, 3, strides=(2,2,2), activation='relu', padding='same')(x64)\n",
        "  x128 = tf.keras.layers.BatchNormalization()(x128)\n",
        "  x128 = tf.keras.layers.Conv3D(128, 3, strides=(1,1,1), activation='relu', padding='same')(x128)\n",
        "  encoded_layer = tf.keras.layers.BatchNormalization()(x128)\n",
        "\n",
        "  return encoded_layer\n"
      ],
      "metadata": {
        "id": "Ufp7M6Doa_ol"
      },
      "execution_count": 5,
      "outputs": []
    },
    {
      "cell_type": "code",
      "source": [
        "def deco(encoded_layer):\n",
        "  print(\"*****Decoder*****\", encoded_layer)\n",
        "\n",
        "  x128 = tf.keras.layers.Conv3DTranspose(128, 3, strides=(2,2,2), activation='relu', padding='same')(encoded_layer)\n",
        "  x128 = tf.keras.layers.BatchNormalization()(x128)\n",
        "  x128 = tf.keras.layers.Conv3DTranspose(128, 3, strides=(1,1,1), activation='relu', padding='same')(x128)\n",
        "  x128 = tf.keras.layers.BatchNormalization()(x128)\n",
        "\n",
        "  x64 = tf.keras.layers.Conv3DTranspose(64, 3, strides=(2,2,2), activation='relu', padding='same')(x128)\n",
        "  x64 = tf.keras.layers.BatchNormalization()(x64)\n",
        "  x64 = tf.keras.layers.Conv3DTranspose(64, 3, strides=(1,1,1), activation='relu', padding='same')(x64)\n",
        "  x64 = tf.keras.layers.BatchNormalization()(x64)\n",
        "\n",
        "  x32 = tf.keras.layers.Conv3DTranspose(32, 3, strides=(2,2,2), activation='relu', padding='same')(x64)\n",
        "  x32 = tf.keras.layers.BatchNormalization()(x32)\n",
        "  x32 = tf.keras.layers.Conv3DTranspose(32, 3, strides=(1,1,1), activation='relu', padding='same')(x32)\n",
        "  x32 = tf.keras.layers.BatchNormalization()(x32)\n",
        "\n",
        "  x16 = tf.keras.layers.Conv3DTranspose(16, 3, strides=(2,2,2), activation='relu', padding='same')(x32)\n",
        "  x16 = tf.keras.layers.BatchNormalization()(x16)\n",
        "  x16 = tf.keras.layers.Conv3DTranspose(16, 3, strides=(1,1,1), activation='relu', padding='same')(x16)\n",
        "  x16 = tf.keras.layers.BatchNormalization()(x16)\n",
        "\n",
        "  x8 = tf.keras.layers.Conv3DTranspose( 8, 3, strides=(2,2,2), activation='relu', padding='same')(x16)\n",
        "  x8 = tf.keras.layers.BatchNormalization()(x8)\n",
        "  x8 = tf.keras.layers.Conv3DTranspose( 8, 3, strides=(1,1,1), activation='relu', padding='same')(x8)\n",
        "  x8 = tf.keras.layers.BatchNormalization()(x8)\n",
        "\n",
        "  x4 = tf.keras.layers.BatchNormalization()(x8)\n",
        "  x4 = tf.keras.layers.Conv3DTranspose( 4, 3, strides=(1,1,1), activation='relu', padding='same')(x8)\n",
        "  x4 = tf.keras.layers.BatchNormalization()(x4)\n",
        "  x4 = tf.keras.layers.Conv3DTranspose( 4, 3, strides=(1,1,1), activation='relu', padding='same')(x4)\n",
        "  output = tf.keras.layers.BatchNormalization()(x4)\n",
        "\n",
        "  return output\n",
        "\n"
      ],
      "metadata": {
        "id": "U9GkwhIFhwWd"
      },
      "execution_count": 6,
      "outputs": []
    },
    {
      "cell_type": "code",
      "source": [
        "# Combine Encoder and Deocder layers\n",
        "from keras.models import Model, Input\n",
        "\n",
        "input_img = Input(shape=(240,240,155,4))\n",
        "e_l = enco(input_img)\n",
        "output = deco(e_l)\n",
        "\n",
        "\n",
        "autoencoder = Model(inputs = input_img, outputs = output)"
      ],
      "metadata": {
        "colab": {
          "base_uri": "https://localhost:8080/"
        },
        "id": "0u0_SCrLis2p",
        "outputId": "95957757-2e5f-408c-862a-b243344a5ed5"
      },
      "execution_count": 7,
      "outputs": [
        {
          "output_type": "stream",
          "name": "stdout",
          "text": [
            "*****Encoder***** KerasTensor(type_spec=TensorSpec(shape=(None, 240, 240, 155, 4), dtype=tf.float32, name='input_1'), name='input_1', description=\"created by layer 'input_1'\")\n",
            "*****Decoder***** KerasTensor(type_spec=TensorSpec(shape=(None, 8, 8, 5, 128), dtype=tf.float32, name=None), name='batch_normalization_11/FusedBatchNormV3:0', description=\"created by layer 'batch_normalization_11'\")\n"
          ]
        }
      ]
    },
    {
      "cell_type": "code",
      "source": [
        "# Compile the Model\n",
        "\n",
        "autoencoder.compile(optimizer=tf.keras.optimizers.Adam(learning_rate=1e-3), loss='SparseCategoricalCrossentropy')\n",
        "autoencoder.summary()"
      ],
      "metadata": {
        "colab": {
          "base_uri": "https://localhost:8080/"
        },
        "id": "Fr_sJbBEjLcg",
        "outputId": "21c827c6-9181-45be-d31a-a0830c3e9d82"
      },
      "execution_count": 8,
      "outputs": [
        {
          "output_type": "stream",
          "name": "stdout",
          "text": [
            "Model: \"model\"\n",
            "_________________________________________________________________\n",
            " Layer (type)                Output Shape              Param #   \n",
            "=================================================================\n",
            " input_1 (InputLayer)        [(None, 240, 240, 155, 4  0         \n",
            "                             )]                                  \n",
            "                                                                 \n",
            " conv3d (Conv3D)             (None, 240, 240, 155, 4)  436       \n",
            "                                                                 \n",
            " batch_normalization (BatchN  (None, 240, 240, 155, 4)  16       \n",
            " ormalization)                                                   \n",
            "                                                                 \n",
            " conv3d_1 (Conv3D)           (None, 240, 240, 155, 4)  436       \n",
            "                                                                 \n",
            " batch_normalization_1 (Batc  (None, 240, 240, 155, 4)  16       \n",
            " hNormalization)                                                 \n",
            "                                                                 \n",
            " conv3d_2 (Conv3D)           (None, 120, 120, 78, 8)   872       \n",
            "                                                                 \n",
            " batch_normalization_2 (Batc  (None, 120, 120, 78, 8)  32        \n",
            " hNormalization)                                                 \n",
            "                                                                 \n",
            " conv3d_3 (Conv3D)           (None, 120, 120, 78, 8)   1736      \n",
            "                                                                 \n",
            " batch_normalization_3 (Batc  (None, 120, 120, 78, 8)  32        \n",
            " hNormalization)                                                 \n",
            "                                                                 \n",
            " conv3d_4 (Conv3D)           (None, 60, 60, 39, 16)    3472      \n",
            "                                                                 \n",
            " batch_normalization_4 (Batc  (None, 60, 60, 39, 16)   64        \n",
            " hNormalization)                                                 \n",
            "                                                                 \n",
            " conv3d_5 (Conv3D)           (None, 60, 60, 39, 16)    6928      \n",
            "                                                                 \n",
            " batch_normalization_5 (Batc  (None, 60, 60, 39, 16)   64        \n",
            " hNormalization)                                                 \n",
            "                                                                 \n",
            " conv3d_6 (Conv3D)           (None, 30, 30, 20, 32)    13856     \n",
            "                                                                 \n",
            " batch_normalization_6 (Batc  (None, 30, 30, 20, 32)   128       \n",
            " hNormalization)                                                 \n",
            "                                                                 \n",
            " conv3d_7 (Conv3D)           (None, 30, 30, 20, 32)    27680     \n",
            "                                                                 \n",
            " batch_normalization_7 (Batc  (None, 30, 30, 20, 32)   128       \n",
            " hNormalization)                                                 \n",
            "                                                                 \n",
            " conv3d_8 (Conv3D)           (None, 15, 15, 10, 64)    55360     \n",
            "                                                                 \n",
            " batch_normalization_8 (Batc  (None, 15, 15, 10, 64)   256       \n",
            " hNormalization)                                                 \n",
            "                                                                 \n",
            " conv3d_9 (Conv3D)           (None, 15, 15, 10, 64)    110656    \n",
            "                                                                 \n",
            " batch_normalization_9 (Batc  (None, 15, 15, 10, 64)   256       \n",
            " hNormalization)                                                 \n",
            "                                                                 \n",
            " conv3d_10 (Conv3D)          (None, 8, 8, 5, 128)      221312    \n",
            "                                                                 \n",
            " batch_normalization_10 (Bat  (None, 8, 8, 5, 128)     512       \n",
            " chNormalization)                                                \n",
            "                                                                 \n",
            " conv3d_11 (Conv3D)          (None, 8, 8, 5, 128)      442496    \n",
            "                                                                 \n",
            " batch_normalization_11 (Bat  (None, 8, 8, 5, 128)     512       \n",
            " chNormalization)                                                \n",
            "                                                                 \n",
            " conv3d_transpose (Conv3DTra  (None, 16, 16, 10, 128)  442496    \n",
            " nspose)                                                         \n",
            "                                                                 \n",
            " batch_normalization_12 (Bat  (None, 16, 16, 10, 128)  512       \n",
            " chNormalization)                                                \n",
            "                                                                 \n",
            " conv3d_transpose_1 (Conv3DT  (None, 16, 16, 10, 128)  442496    \n",
            " ranspose)                                                       \n",
            "                                                                 \n",
            " batch_normalization_13 (Bat  (None, 16, 16, 10, 128)  512       \n",
            " chNormalization)                                                \n",
            "                                                                 \n",
            " conv3d_transpose_2 (Conv3DT  (None, 32, 32, 20, 64)   221248    \n",
            " ranspose)                                                       \n",
            "                                                                 \n",
            " batch_normalization_14 (Bat  (None, 32, 32, 20, 64)   256       \n",
            " chNormalization)                                                \n",
            "                                                                 \n",
            " conv3d_transpose_3 (Conv3DT  (None, 32, 32, 20, 64)   110656    \n",
            " ranspose)                                                       \n",
            "                                                                 \n",
            " batch_normalization_15 (Bat  (None, 32, 32, 20, 64)   256       \n",
            " chNormalization)                                                \n",
            "                                                                 \n",
            " conv3d_transpose_4 (Conv3DT  (None, 64, 64, 40, 32)   55328     \n",
            " ranspose)                                                       \n",
            "                                                                 \n",
            " batch_normalization_16 (Bat  (None, 64, 64, 40, 32)   128       \n",
            " chNormalization)                                                \n",
            "                                                                 \n",
            " conv3d_transpose_5 (Conv3DT  (None, 64, 64, 40, 32)   27680     \n",
            " ranspose)                                                       \n",
            "                                                                 \n",
            " batch_normalization_17 (Bat  (None, 64, 64, 40, 32)   128       \n",
            " chNormalization)                                                \n",
            "                                                                 \n",
            " conv3d_transpose_6 (Conv3DT  (None, 128, 128, 80, 16)  13840    \n",
            " ranspose)                                                       \n",
            "                                                                 \n",
            " batch_normalization_18 (Bat  (None, 128, 128, 80, 16)  64       \n",
            " chNormalization)                                                \n",
            "                                                                 \n",
            " conv3d_transpose_7 (Conv3DT  (None, 128, 128, 80, 16)  6928     \n",
            " ranspose)                                                       \n",
            "                                                                 \n",
            " batch_normalization_19 (Bat  (None, 128, 128, 80, 16)  64       \n",
            " chNormalization)                                                \n",
            "                                                                 \n",
            " conv3d_transpose_8 (Conv3DT  (None, 256, 256, 160, 8)  3464     \n",
            " ranspose)                                                       \n",
            "                                                                 \n",
            " batch_normalization_20 (Bat  (None, 256, 256, 160, 8)  32       \n",
            " chNormalization)                                                \n",
            "                                                                 \n",
            " conv3d_transpose_9 (Conv3DT  (None, 256, 256, 160, 8)  1736     \n",
            " ranspose)                                                       \n",
            "                                                                 \n",
            " batch_normalization_21 (Bat  (None, 256, 256, 160, 8)  32       \n",
            " chNormalization)                                                \n",
            "                                                                 \n",
            " conv3d_transpose_10 (Conv3D  (None, 256, 256, 160, 4)  868      \n",
            " Transpose)                                                      \n",
            "                                                                 \n",
            " batch_normalization_23 (Bat  (None, 256, 256, 160, 4)  16       \n",
            " chNormalization)                                                \n",
            "                                                                 \n",
            " conv3d_transpose_11 (Conv3D  (None, 256, 256, 160, 4)  436      \n",
            " Transpose)                                                      \n",
            "                                                                 \n",
            " batch_normalization_24 (Bat  (None, 256, 256, 160, 4)  16       \n",
            " chNormalization)                                                \n",
            "                                                                 \n",
            "=================================================================\n",
            "Total params: 2,216,448\n",
            "Trainable params: 2,214,432\n",
            "Non-trainable params: 2,016\n",
            "_________________________________________________________________\n"
          ]
        }
      ]
    },
    {
      "cell_type": "code",
      "source": [
        "batchsize = 4\n",
        "shufflesize = 8\n",
        "mini_dataset_trainable = mini_dataset.shuffle(shufflesize).batch(batchsize)\n",
        "minival_dataset_validable = minival_dataset.batch(batchsize)\n",
        "train_dataset_trainable = train_dataset.shuffle(shufflesize).batch(batchsize)\n",
        "val_dataset_validable = val_dataset.batch(batchsize)"
      ],
      "metadata": {
        "id": "muk7qrVro3N6"
      },
      "execution_count": 9,
      "outputs": []
    },
    {
      "cell_type": "code",
      "source": [
        "autoencoder.fit(mini_dataset_trainable, epochs = 2, batch_size = 4, shuffle = False, verbose=10, validation_data=minival_dataset_validable)"
      ],
      "metadata": {
        "colab": {
          "base_uri": "https://localhost:8080/"
        },
        "id": "qyANFfcRpvXs",
        "outputId": "406645e4-cd9a-4327-920e-f82985272cf8"
      },
      "execution_count": null,
      "outputs": [
        {
          "output_type": "stream",
          "name": "stdout",
          "text": [
            "Epoch 1/2\n"
          ]
        }
      ]
    },
    {
      "cell_type": "code",
      "source": [
        "# #DICE Coefficent definition used as a metric in compilation\n",
        "# import keras.backend as k\n",
        "# def dice_coef(y_pred, y_true):\n",
        "#     inter = k.sum(y_true[:,:,-1]*y_pred[:,:,-1])\n",
        "#     return (2*inter + 1)/(k.sum(y_true[:,:,-1]) + k.sum(y_pred[:,:,-1]) + 1)"
      ],
      "metadata": {
        "id": "4FgVauW9jdo8"
      },
      "execution_count": null,
      "outputs": []
    }
  ]
}